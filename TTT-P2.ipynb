{
 "cells": [
  {
   "cell_type": "code",
   "execution_count": 1,
   "metadata": {
    "collapsed": true
   },
   "outputs": [],
   "source": [
    "import sys\n",
    "import warnings\n",
    "warnings.filterwarnings('ignore')\n",
    "board = [2,2,2,2,2,2,2,2,2]\n",
    "rows = [[0,1,2],[3,4,5],[6,7,8]]\n",
    "cols = [[0,3,6],[1,4,7],[2,5,8]]\n",
    "diags = [[0,4,8],[2,4,6]]\n",
    "options = [rows,cols,diags]\n",
    "turn = [1]"
   ]
  },
  {
   "cell_type": "code",
   "execution_count": 2,
   "metadata": {
    "collapsed": true
   },
   "outputs": [],
   "source": [
    "def make2():\n",
    "    if board[4] == 2:\n",
    "        return 4\n",
    "    elif board[1] == 2:\n",
    "        return 1\n",
    "    elif board[3] == 2:\n",
    "        return 3    \n",
    "    elif board[5] == 2:\n",
    "        return 5\n",
    "    else:\n",
    "        return 7"
   ]
  },
  {
   "cell_type": "code",
   "execution_count": 3,
   "metadata": {
    "collapsed": true
   },
   "outputs": [],
   "source": [
    "def posswin(p):\n",
    "    if p == 'X':        \n",
    "        for option in options:\n",
    "            for op in option:\n",
    "                mul = 1\n",
    "                blank = -1\n",
    "                for ind in op:\n",
    "                    mul = mul * board[ind]\n",
    "                    if board[ind] == 2:\n",
    "                        blank = ind\n",
    "                if mul == 18:\n",
    "                    return blank\n",
    "        return 0\n",
    "    elif p == 'O':\n",
    "        for option in options:\n",
    "            for op in option:\n",
    "                mul = 1\n",
    "                blank = -1\n",
    "                for ind in op:\n",
    "                    mul = mul * board[ind]\n",
    "                    if board[ind] == 2:\n",
    "                        blank = ind\n",
    "                if mul == 50:\n",
    "                    return blank\n",
    "        return 0 \n",
    "    "
   ]
  },
  {
   "cell_type": "code",
   "execution_count": 4,
   "metadata": {
    "collapsed": true
   },
   "outputs": [],
   "source": [
    "def go(n,turn):\n",
    "    if turn[0] % 2 == 1:\n",
    "        board[n] = 3\n",
    "    else:\n",
    "        board[n] = 5\n",
    "    turn[0] = turn[0] + 1"
   ]
  },
  {
   "cell_type": "code",
   "execution_count": 5,
   "metadata": {
    "collapsed": true
   },
   "outputs": [],
   "source": [
    "def goanywhere(turn):\n",
    "    for i in xrange(0,9):\n",
    "        if board[i] == 2:\n",
    "            go(i,turn)\n",
    "            break"
   ]
  },
  {
   "cell_type": "code",
   "execution_count": 6,
   "metadata": {
    "collapsed": true
   },
   "outputs": [],
   "source": [
    "def move(turn):\n",
    "    if turn[0] == 1:\n",
    "        go(0,turn)\n",
    "    elif turn[0] == 2:\n",
    "        if board[4] == 2:\n",
    "            go(4,turn)\n",
    "        else:\n",
    "            go(0,turn)\n",
    "    elif turn[0] == 3:\n",
    "        if board[8] == 2:\n",
    "            go(8,turn)\n",
    "        else:\n",
    "            go(2,turn)\n",
    "    elif turn[0] == 4:\n",
    "        if posswin('X') != 0:\n",
    "            go(posswin('X'),turn)\n",
    "        else:\n",
    "            go(make2(),turn)\n",
    "    elif turn[0] == 5:\n",
    "        if posswin('X') != 0:\n",
    "            go(posswin('X'),turn)\n",
    "            draw(board)\n",
    "            print 'CPU wins'\n",
    "            sys.exit()\n",
    "        elif posswin('O') != 0:\n",
    "            go(posswin('O'),turn)\n",
    "        elif board[6] == 2:\n",
    "            go(6,turn)\n",
    "        else:\n",
    "            go(2,turn)\n",
    "    elif turn[0] == 6:\n",
    "        if posswin('O') != 0:\n",
    "            go(posswin('O'),turn)\n",
    "            draw(board)\n",
    "            print 'CPU wins'\n",
    "            sys.exit()\n",
    "        elif posswin('X') != 0:\n",
    "            go(posswin('X'),turn)\n",
    "        else:\n",
    "            go(make2(),turn)\n",
    "    elif turn[0] == 7:\n",
    "        if posswin('X') != 0:\n",
    "            go(posswin('X'),turn)\n",
    "            draw(board)\n",
    "            print 'CPU wins'\n",
    "            sys.exit()\n",
    "        elif posswin('O') != 0:\n",
    "            go(posswin('O'),turn)\n",
    "        else:\n",
    "            goanywhere(turn)\n",
    "    elif turn[0] == 8:\n",
    "        if posswin('O') != 0:\n",
    "            go(posswin('O'),turn)\n",
    "            draw(board)\n",
    "            print 'CPU wins'\n",
    "            sys.exit()\n",
    "        elif posswin('X') != 0:\n",
    "            go(posswin('X'),turn)\n",
    "        else:\n",
    "            goanywhere(turn)\n",
    "    elif turn[0] == 9:\n",
    "        if posswin('X') != 0:\n",
    "            go(posswin('X'),turn)\n",
    "            draw(board)\n",
    "            print 'CPU wins'\n",
    "            sys.exit()\n",
    "        elif posswin('O') != 0:\n",
    "            go(posswin('O'),turn)\n",
    "        else:\n",
    "            goanywhere(turn)"
   ]
  },
  {
   "cell_type": "code",
   "execution_count": 7,
   "metadata": {
    "collapsed": true
   },
   "outputs": [],
   "source": [
    "def draw(board):\n",
    "    print\n",
    "    k = 0\n",
    "    for i in xrange(0,3):\n",
    "        for j in xrange(0,3):\n",
    "            if board[k] == 2:\n",
    "                print ' _ ',\n",
    "            elif board[k] == 3:\n",
    "                print ' X ',\n",
    "            else:\n",
    "                print ' O ',\n",
    "            k=k+1\n",
    "        print\n",
    "        print"
   ]
  },
  {
   "cell_type": "code",
   "execution_count": 8,
   "metadata": {
    "collapsed": true
   },
   "outputs": [],
   "source": [
    "def yourMove(n, turn):\n",
    "    if turn[0] % 2 == 1:\n",
    "        board[n] = 3\n",
    "    else:\n",
    "        board[n] = 5\n",
    "    turn[0] = turn[0] + 1"
   ]
  },
  {
   "cell_type": "code",
   "execution_count": 9,
   "metadata": {},
   "outputs": [
    {
     "name": "stdout",
     "output_type": "stream",
     "text": [
      "X or O ?X\n",
      "Enter index from 1 to 9: 1\n",
      "\n",
      " X   _   _ \n",
      "\n",
      " _   _   _ \n",
      "\n",
      " _   _   _ \n",
      "\n",
      "\n",
      "CPU is thinking...\n",
      "\n",
      " X   _   _ \n",
      "\n",
      " _   O   _ \n",
      "\n",
      " _   _   _ \n",
      "\n",
      "Enter index from 1 to 9: 9\n",
      "\n",
      " X   _   _ \n",
      "\n",
      " _   O   _ \n",
      "\n",
      " _   _   X \n",
      "\n",
      "\n",
      "CPU is thinking...\n",
      "\n",
      " X   O   _ \n",
      "\n",
      " _   O   _ \n",
      "\n",
      " _   _   X \n",
      "\n",
      "Enter index from 1 to 9: 8\n",
      "\n",
      " X   O   _ \n",
      "\n",
      " _   O   _ \n",
      "\n",
      " _   X   X \n",
      "\n",
      "\n",
      "CPU is thinking...\n",
      "\n",
      " X   O   _ \n",
      "\n",
      " _   O   _ \n",
      "\n",
      " O   X   X \n",
      "\n",
      "Enter index from 1 to 9: 3\n",
      "\n",
      " X   O   X \n",
      "\n",
      " _   O   _ \n",
      "\n",
      " O   X   X \n",
      "\n",
      "\n",
      "CPU is thinking...\n",
      "\n",
      " X   O   X \n",
      "\n",
      " _   O   O \n",
      "\n",
      " O   X   X \n",
      "\n",
      "Enter index from 1 to 9: 4\n",
      "\n",
      " X   O   X \n",
      "\n",
      " X   O   O \n",
      "\n",
      " O   X   X \n",
      "\n"
     ]
    }
   ],
   "source": [
    "if __name__ == '__main__': \n",
    "    ch = raw_input('X or O ?')\n",
    "    if ch == 'x' or ch == 'X':\n",
    "        for i in xrange(0,4):\n",
    "            yourMove(input('Enter index from 1 to 9: ')-1,turn)\n",
    "            draw(board)\n",
    "            print\n",
    "            print 'CPU is thinking...'\n",
    "            move(turn)\n",
    "            draw(board)\n",
    "        yourMove(input('Enter index from 1 to 9: ')-1,turn)\n",
    "        draw(board)\n",
    "    if ch == 'o' or ch == 'O':\n",
    "        for i in xrange(0,4):\n",
    "            print \n",
    "            print 'CPU is thinking...'\n",
    "            move(turn)\n",
    "            draw(board)\n",
    "            yourMove(input('Enter index from 1 to 9: ')-1,turn)\n",
    "            draw(board)\n",
    "        move(turn)\n",
    "        draw(board)"
   ]
  },
  {
   "cell_type": "code",
   "execution_count": null,
   "metadata": {
    "collapsed": true
   },
   "outputs": [],
   "source": []
  }
 ],
 "metadata": {
  "kernelspec": {
   "display_name": "Python 2",
   "language": "python",
   "name": "python2"
  },
  "language_info": {
   "codemirror_mode": {
    "name": "ipython",
    "version": 2
   },
   "file_extension": ".py",
   "mimetype": "text/x-python",
   "name": "python",
   "nbconvert_exporter": "python",
   "pygments_lexer": "ipython2",
   "version": "2.7.14"
  }
 },
 "nbformat": 4,
 "nbformat_minor": 2
}
